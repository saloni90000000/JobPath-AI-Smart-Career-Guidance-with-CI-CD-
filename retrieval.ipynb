{
 "cells": [
  {
   "cell_type": "code",
   "execution_count": 236,
   "id": "99eada68-ab73-41d4-80e7-0da061219f95",
   "metadata": {},
   "outputs": [],
   "source": [
    "import os\n",
    "import pickle\n",
    "from langchain_community.document_loaders import WebBaseLoader\n",
    "from langchain.text_splitter import RecursiveCharacterTextSplitter\n",
    "from langchain.embeddings import HuggingFaceEmbeddings\n",
    "from langchain.vectorstores import FAISS\n",
    "from transformers import pipeline"
   ]
  },
  {
   "cell_type": "code",
   "execution_count": 238,
   "id": "cd9c758f-a6b7-44b2-a9da-fa28d06d8653",
   "metadata": {},
   "outputs": [],
   "source": [
    "# Load web data\n",
    "urls = [\n",
    "    \"https://www.moneycontrol.com/news/business/markets/wall-street-rises-as-tesla-soars-on-ai-optimism-11351111.html\",\n",
    "    \"https://www.moneycontrol.com/news/business/tata-motors-launches-punch-icng-price-starts-at-rs-7-1-lakh-11098751.html\"\n",
    "]\n",
    "loader = WebBaseLoader(urls)\n",
    "data = loader.load()"
   ]
  },
  {
   "cell_type": "code",
   "execution_count": 240,
   "id": "62bdcf88-d028-4aea-82a2-79fdd250c836",
   "metadata": {},
   "outputs": [],
   "source": [
    "# Split text into chunks\n",
    "text_splitter = RecursiveCharacterTextSplitter(chunk_size=1000, chunk_overlap=200)\n",
    "docs = text_splitter.split_documents(data)"
   ]
  },
  {
   "cell_type": "code",
   "execution_count": 242,
   "id": "24d9b48c-70e5-4a59-a013-a0f488a70c90",
   "metadata": {},
   "outputs": [
    {
     "name": "stderr",
     "output_type": "stream",
     "text": [
      "C:\\Users\\91750\\AppData\\Local\\Temp\\ipykernel_22364\\3695376538.py:2: LangChainDeprecationWarning: Default values for HuggingFaceEmbeddings.model_name were deprecated in LangChain 0.2.16 and will be removed in 0.4.0. Explicitly pass a model_name to the HuggingFaceEmbeddings constructor instead.\n",
      "  embeddings = HuggingFaceEmbeddings()\n"
     ]
    }
   ],
   "source": [
    "# Create embeddings\n",
    "embeddings = HuggingFaceEmbeddings()\n",
    "vector_index = FAISS.from_documents(docs, embeddings)\n"
   ]
  },
  {
   "cell_type": "code",
   "execution_count": 244,
   "id": "ea60070e-77a6-41ca-aa31-720f36b98d26",
   "metadata": {},
   "outputs": [],
   "source": [
    "# Store the vector index locally\n",
    "file_path = \"vector_index.pkl\"\n",
    "with open(file_path, \"wb\") as f:\n",
    "    pickle.dump(vector_index, f)\n"
   ]
  },
  {
   "cell_type": "code",
   "execution_count": 246,
   "id": "65b0609b-3166-4860-9d13-33e50905e840",
   "metadata": {},
   "outputs": [],
   "source": [
    "# Load stored vector index\n",
    "if os.path.exists(file_path):\n",
    "    with open(file_path, \"rb\") as f:\n",
    "        vector_index = pickle.load(f)"
   ]
  },
  {
   "cell_type": "code",
   "execution_count": 248,
   "id": "a8ea9799-9776-49f8-ad06-f58aec4a9ebf",
   "metadata": {},
   "outputs": [
    {
     "name": "stderr",
     "output_type": "stream",
     "text": [
      "Device set to use cpu\n"
     ]
    }
   ],
   "source": [
    "# Initialize Hugging Face QA model\n",
    "qa_pipeline = pipeline(\"question-answering\", model=\"deepset/roberta-base-squad2\")"
   ]
  },
  {
   "cell_type": "code",
   "execution_count": 250,
   "id": "7c43b393-38d5-4026-86d3-0cbcc0877f10",
   "metadata": {},
   "outputs": [],
   "source": [
    "# Query the model\n",
    "query = \"What is the price of Tiago iCNG?\"\n",
    "retrieved_docs = vector_index.similarity_search(query, k=1)\n",
    "context = retrieved_docs[0].page_content if retrieved_docs else \"\""
   ]
  },
  {
   "cell_type": "code",
   "execution_count": 252,
   "id": "5ab41e74-d2d0-42b1-990b-cdf8259fab68",
   "metadata": {},
   "outputs": [
    {
     "name": "stdout",
     "output_type": "stream",
     "text": [
      "Answer: between Rs 6.55 lakh and Rs 8.1 lakh\n"
     ]
    }
   ],
   "source": [
    "# Get answer from the QA model\n",
    "result = qa_pipeline(question=query, context=context)\n",
    "print(\"Answer:\", result[\"answer\"])"
   ]
  },
  {
   "cell_type": "code",
   "execution_count": null,
   "id": "eb4334a0-fbe0-4089-b5e9-1c1de5b4cd2c",
   "metadata": {},
   "outputs": [],
   "source": []
  }
 ],
 "metadata": {
  "kernelspec": {
   "display_name": "Python 3.12",
   "language": "python",
   "name": "python312"
  },
  "language_info": {
   "codemirror_mode": {
    "name": "ipython",
    "version": 3
   },
   "file_extension": ".py",
   "mimetype": "text/x-python",
   "name": "python",
   "nbconvert_exporter": "python",
   "pygments_lexer": "ipython3",
   "version": "3.12.4"
  }
 },
 "nbformat": 4,
 "nbformat_minor": 5
}
